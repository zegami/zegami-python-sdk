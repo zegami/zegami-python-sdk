{
 "cells": [
  {
   "cell_type": "markdown",
   "metadata": {},
   "source": [
    "# Custom Image Analysis"
   ]
  },
  {
   "cell_type": "markdown",
   "metadata": {},
   "source": [
    "## Table of Contents (TOC) <a class=\"anchor\" id=\"toc\"></a>\n",
    "\n",
    "- [1. Imports](#first-bullet)\n",
    "- [2. Zegami Client, Workspace, and Collection](#second-bullet)\n",
    "- [3. Droping rows from the datafile that are not useful](#third-bullet)\n",
    "- [4. Adding chest x-rays of healthy individuals](#fourth-bullet)\n",
    "- [5. Selecting data based on image similarity](#fifth-bullet)\n",
    "- [6. Custom analysis of data](#sixth-bullet)"
   ]
  },
  {
   "cell_type": "markdown",
   "metadata": {},
   "source": [
    "## 1. Imports <a class=\"anchor\" id=\"first-bullet\"></a> <span style=\"font-size:0.5em;\">[(Back to TOC)](#toc)</span>"
   ]
  },
  {
   "cell_type": "code",
   "execution_count": 1,
   "metadata": {},
   "outputs": [],
   "source": [
    "from zegami_sdk.client import ZegamiClient\n",
    "from zegami_sdk.source import UploadableSource\n",
    "\n",
    "from skimage.transform import resize\n",
    "from skimage.feature import graycomatrix, graycoprops\n",
    "\n",
    "from matplotlib import pyplot as plt\n",
    "\n",
    "import os\n",
    "import pandas as pd\n",
    "import numpy as np\n",
    "\n",
    "from torch.utils.data import Dataset, DataLoader"
   ]
  },
  {
   "cell_type": "markdown",
   "metadata": {},
   "source": [
    "# 2. Zegami client, workspace, and collection <a class=\"anchor\" id=\"second-bullet\"></a> <span style=\"font-size:0.5em;\">[(Back to TOC)](#toc)</span>"
   ]
  },
  {
   "cell_type": "code",
   "execution_count": 2,
   "metadata": {},
   "outputs": [
    {
     "name": "stdout",
     "output_type": "stream",
     "text": [
      "Used token from '/home/martim-zegami/zegami_com.zegami.token'.\n",
      "Client initialized successfully, welcome .\n",
      "\n"
     ]
    }
   ],
   "source": [
    "zc = ZegamiClient()"
   ]
  },
  {
   "cell_type": "code",
   "execution_count": 3,
   "metadata": {},
   "outputs": [],
   "source": [
    "workspaces_lst = zc.workspaces\n",
    "# print(workspaces_lst)"
   ]
  },
  {
   "cell_type": "code",
   "execution_count": 4,
   "metadata": {},
   "outputs": [],
   "source": [
    "# Get workspace using the ID\n",
    "WORKSPACE_ID = 'GUDe4kRY' # zc.workspaces[1].id - select ID after printing workspaces\n",
    "workspace = zc.get_workspace_by_id(WORKSPACE_ID)"
   ]
  },
  {
   "cell_type": "code",
   "execution_count": 5,
   "metadata": {},
   "outputs": [
    {
     "name": "stdout",
     "output_type": "stream",
     "text": [
      "\n",
      "Collections in 'Martim Chaves' (3):\n",
      "6271698f81e4bccb640d6e24 : Flags of the world\n",
      "62850bd97e2168af00fef191 : X-ray-analysis\n",
      "629f7935295f96ab09285a8a : Xray-analysis\n"
     ]
    }
   ],
   "source": [
    "workspace.show_collections()"
   ]
  },
  {
   "cell_type": "code",
   "execution_count": 6,
   "metadata": {},
   "outputs": [
    {
     "name": "stdout",
     "output_type": "stream",
     "text": [
      "<CollectionV1 id=62850bd97e2168af00fef191 name=X-ray-analysis>\n"
     ]
    }
   ],
   "source": [
    "collection = workspace.get_collection_by_name('X-ray-analysis')\n",
    "print(collection)"
   ]
  },
  {
   "cell_type": "markdown",
   "metadata": {},
   "source": [
    "## 3. Droping rows from the datafile that are not useful <a class=\"anchor\" id=\"third-bullet\"></a> <span style=\"font-size:0.5em;\">[(Back to TOC)](#toc)</span>"
   ]
  },
  {
   "cell_type": "markdown",
   "metadata": {},
   "source": [
    "<img src=\"./images/wrong_filenames.png\" width=\"1000\"/>"
   ]
  },
  {
   "cell_type": "markdown",
   "metadata": {},
   "source": [
    "Some rows in the datafile pointed at files that were non-existent. In order to clean that, a Tag was created for those files. Removing them is simple. "
   ]
  },
  {
   "cell_type": "code",
   "execution_count": 30,
   "metadata": {},
   "outputs": [],
   "source": [
    "collec_remove_tag = collection.get_rows_by_tags(['wrong_file_name']).copy()"
   ]
  },
  {
   "cell_type": "code",
   "execution_count": 47,
   "metadata": {},
   "outputs": [],
   "source": [
    "temp_coll_rows = collection.rows[~collection.rows.filename.isin(collec_remove_tag.filename)]"
   ]
  },
  {
   "cell_type": "code",
   "execution_count": 49,
   "metadata": {},
   "outputs": [],
   "source": [
    "collection.replace_data(temp_coll_rows)"
   ]
  },
  {
   "cell_type": "markdown",
   "metadata": {},
   "source": [
    "## 4. Adding chest x-rays of healthy individuals <a class=\"anchor\" id=\"fourth-bullet\"></a> <span style=\"font-size:0.5em;\">[(Back to TOC)](#toc)</span>\n",
    "\n",
    "To get a better idea of differences between individuals with covid and healthy individuals, we should get some healthy x-rays!\n",
    "\n",
    "First, let's look at how many covid-19 positive images we have a focus on them."
   ]
  },
  {
   "cell_type": "code",
   "execution_count": 58,
   "metadata": {},
   "outputs": [],
   "source": [
    "pa_view_df = collection.get_rows_by_tags(['pa_sim_view'])"
   ]
  },
  {
   "cell_type": "code",
   "execution_count": 59,
   "metadata": {},
   "outputs": [],
   "source": [
    "pa_covid_df = pa_view_df[pa_view_df['finding'] == 'Pneumonia/Viral/COVID-19']"
   ]
  },
  {
   "cell_type": "code",
   "execution_count": 60,
   "metadata": {},
   "outputs": [
    {
     "data": {
      "text/plain": [
       "481"
      ]
     },
     "execution_count": 60,
     "metadata": {},
     "output_type": "execute_result"
    }
   ],
   "source": [
    "len(pa_covid_df)"
   ]
  },
  {
   "cell_type": "markdown",
   "metadata": {},
   "source": [
    "Quickly, we were able to determine that there are 481 covid positive images in a view similar or equal to PA. Let's get a similar number of images of healthy chest x-rays. For that, we used a Kaggle dataset (https://www.kaggle.com/datasets/paultimothymooney/chest-xray-pneumonia).\n",
    "\n",
    "Besides the images, we only need to provide a supplementary data file, containing the column 'filename' with the name of the file and 'finding' saying healthy."
   ]
  },
  {
   "cell_type": "code",
   "execution_count": 70,
   "metadata": {},
   "outputs": [],
   "source": [
    "file_names = os.listdir('./data/healthy_x_rays')\n",
    "healthy_findings = ['healthy' for _ in range(len(file_names))] # there's probably a better way to do this"
   ]
  },
  {
   "cell_type": "code",
   "execution_count": 76,
   "metadata": {},
   "outputs": [
    {
     "data": {
      "text/plain": [
       "481"
      ]
     },
     "execution_count": 76,
     "metadata": {},
     "output_type": "execute_result"
    }
   ],
   "source": [
    "len(file_names)"
   ]
  },
  {
   "cell_type": "code",
   "execution_count": 74,
   "metadata": {},
   "outputs": [],
   "source": [
    "sup_data = pd.DataFrame({\n",
    "    'finding': healthy_findings,\n",
    "    'filename': file_names\n",
    "    })"
   ]
  },
  {
   "cell_type": "code",
   "execution_count": 75,
   "metadata": {},
   "outputs": [
    {
     "data": {
      "text/html": [
       "<div>\n",
       "<style scoped>\n",
       "    .dataframe tbody tr th:only-of-type {\n",
       "        vertical-align: middle;\n",
       "    }\n",
       "\n",
       "    .dataframe tbody tr th {\n",
       "        vertical-align: top;\n",
       "    }\n",
       "\n",
       "    .dataframe thead th {\n",
       "        text-align: right;\n",
       "    }\n",
       "</style>\n",
       "<table border=\"1\" class=\"dataframe\">\n",
       "  <thead>\n",
       "    <tr style=\"text-align: right;\">\n",
       "      <th></th>\n",
       "      <th>finding</th>\n",
       "      <th>filename</th>\n",
       "    </tr>\n",
       "  </thead>\n",
       "  <tbody>\n",
       "    <tr>\n",
       "      <th>0</th>\n",
       "      <td>healthy</td>\n",
       "      <td>IM-0332-0001.jpeg</td>\n",
       "    </tr>\n",
       "    <tr>\n",
       "      <th>1</th>\n",
       "      <td>healthy</td>\n",
       "      <td>IM-0273-0001.jpeg</td>\n",
       "    </tr>\n",
       "    <tr>\n",
       "      <th>2</th>\n",
       "      <td>healthy</td>\n",
       "      <td>IM-0162-0001.jpeg</td>\n",
       "    </tr>\n",
       "    <tr>\n",
       "      <th>3</th>\n",
       "      <td>healthy</td>\n",
       "      <td>IM-0335-0001.jpeg</td>\n",
       "    </tr>\n",
       "    <tr>\n",
       "      <th>4</th>\n",
       "      <td>healthy</td>\n",
       "      <td>IM-0472-0001.jpeg</td>\n",
       "    </tr>\n",
       "  </tbody>\n",
       "</table>\n",
       "</div>"
      ],
      "text/plain": [
       "   finding           filename\n",
       "0  healthy  IM-0332-0001.jpeg\n",
       "1  healthy  IM-0273-0001.jpeg\n",
       "2  healthy  IM-0162-0001.jpeg\n",
       "3  healthy  IM-0335-0001.jpeg\n",
       "4  healthy  IM-0472-0001.jpeg"
      ]
     },
     "execution_count": 75,
     "metadata": {},
     "output_type": "execute_result"
    }
   ],
   "source": [
    "sup_data.head()"
   ]
  },
  {
   "cell_type": "code",
   "execution_count": 78,
   "metadata": {},
   "outputs": [],
   "source": [
    "sup_data.to_excel('./data/sup_data_healthy.xlsx')"
   ]
  },
  {
   "cell_type": "code",
   "execution_count": 82,
   "metadata": {},
   "outputs": [
    {
     "name": "stdout",
     "output_type": "stream",
     "text": [
      "UploadableSource \"X-ray-analysis\" found 481 images in \"./data/healthy_x_rays\"\n"
     ]
    }
   ],
   "source": [
    "supplementary_data_file = './data/sup_data_healthy.xlsx'\n",
    "\n",
    "images = './data/healthy_x_rays'\n",
    "\n",
    "upload = UploadableSource('X-ray-analysis', images, column_filename='filename')"
   ]
  },
  {
   "cell_type": "code",
   "execution_count": 85,
   "metadata": {},
   "outputs": [
    {
     "name": "stdout",
     "output_type": "stream",
     "text": [
      "- Checking data matches uploadable sources\n"
     ]
    },
    {
     "name": "stderr",
     "output_type": "stream",
     "text": [
      "/home/martim-zegami/Documents/zegami/zegami_test/env/lib/python3.9/site-packages/zegami_sdk/collection.py:1085: FutureWarning: The frame.append method is deprecated and will be removed from pandas in a future version. Use pandas.concat instead.\n",
      "  new_rows = self.rows.append(data)\n"
     ]
    },
    {
     "name": "stdout",
     "output_type": "stream",
     "text": [
      "- Uploadable source 0 \"X-ray-analysis\" beginning upload\n"
     ]
    },
    {
     "name": "stderr",
     "output_type": "stream",
     "text": [
      "100%|██████████| 490/490 [00:28<00:00, 17.23image/s]\n"
     ]
    }
   ],
   "source": [
    "collection.add_images(upload, supplementary_data_file)"
   ]
  },
  {
   "cell_type": "markdown",
   "metadata": {},
   "source": [
    "## 5. Selecting data based on Image Similarity <a class=\"anchor\" id=\"ffth-bullet\"></a> <span style=\"font-size:0.5em;\">[(Back to TOC)](#toc)</span>"
   ]
  },
  {
   "cell_type": "markdown",
   "metadata": {},
   "source": [
    "<img src=\"./images/multiple_clusters.png\" width=\"1000\"/>"
   ]
  },
  {
   "cell_type": "markdown",
   "metadata": {},
   "source": [
    "Looking at the clusters and colouring the samples by finding, we can see that the main large cluster in the center corresponds to samples with a view similar to posteroanterior (PA). The healthy images we added are also of that view. Perhaps we could create a subset containing these two clusters only. "
   ]
  },
  {
   "cell_type": "markdown",
   "metadata": {},
   "source": [
    "<img src=\"./images/clusters_by_finding.png\" width=\"1000\"/>"
   ]
  },
  {
   "cell_type": "markdown",
   "metadata": {},
   "source": [
    "Looking at the clusters coloured by finding, apparently, clustering based on features extracted already does quite a good job separating healthy and non-healthy x-rays. We start by focusing on the cluster in the centre, selecting it using the scatter plot filter."
   ]
  },
  {
   "cell_type": "markdown",
   "metadata": {},
   "source": [
    "<img src=\"./images/focus_centre_cluster.png\" width=\"1000\"/>"
   ]
  },
  {
   "cell_type": "markdown",
   "metadata": {},
   "source": [
    "Afterwards, we select all of them, and create a Tag called 'pneumonia_pa', images that contain some sort of pneumonia in a equal or similar to PA view."
   ]
  },
  {
   "cell_type": "markdown",
   "metadata": {},
   "source": [
    "<img src=\"./images/pneumonia_pa.png\" width=\"1000\"/>"
   ]
  },
  {
   "cell_type": "markdown",
   "metadata": {},
   "source": [
    "We can do a similar thing with the other main cluster, containing healthy images, creating a 'healthy_pa' Tag."
   ]
  },
  {
   "cell_type": "code",
   "execution_count": 8,
   "metadata": {},
   "outputs": [
    {
     "data": {
      "text/plain": [
       "dict_keys(['pa_sim_view', 'pneumonia_pa', 'wrong_file_name', 'healthy_pa'])"
      ]
     },
     "execution_count": 8,
     "metadata": {},
     "output_type": "execute_result"
    }
   ],
   "source": [
    "collection.tags.keys()"
   ]
  },
  {
   "cell_type": "markdown",
   "metadata": {},
   "source": [
    "## 6. Custom Analysis of Data <a class=\"anchor\" id=\"sixth-bullet\"></a> <span style=\"font-size:0.5em;\">[(Back to TOC)](#toc)</span>"
   ]
  },
  {
   "cell_type": "markdown",
   "metadata": {},
   "source": [
    "### 6.1. Creating a data generator"
   ]
  },
  {
   "cell_type": "code",
   "execution_count": 9,
   "metadata": {},
   "outputs": [],
   "source": [
    "class CovidDataset(Dataset):\n",
    "\n",
    "    def __init__(self, collection, class_column='class', image_size = (450,450), tag = ''):\n",
    "        \n",
    "        \n",
    "        self._collection = collection\n",
    "        self._class_column = class_column\n",
    "\n",
    "        if len(tag) > 0:\n",
    "            self.subject_ids = list(collection.get_rows_by_tags([tag]).index)\n",
    "        else:\n",
    "            self.subject_ids = list(collection.rows.index)\n",
    "        self.image_size = image_size\n",
    "\n",
    "    @property\n",
    "    def collection(): pass\n",
    "    \n",
    "    @collection.getter\n",
    "    def collection(self): return self._collection\n",
    "\n",
    "    def __len__(self):\n",
    "        return len(self.subject_ids)\n",
    "\n",
    "    def rgb2gray(self,img):\n",
    "        \n",
    "        if len(img.shape) == 2: return img\n",
    "        \n",
    "        img = np.copy(img.astype(np.float32))\n",
    "        gray = np.add(img[0::,0::,0],np.add(img[0::,0::,1],img[0::,0::,2]))\n",
    "        gray = np.divide(gray,3)\n",
    "        gray = gray.astype(np.uint8)\n",
    "        \n",
    "        return gray\n",
    "\n",
    "    def __getitem__(self,idx):\n",
    "        subject_id = int(self.subject_ids[idx])\n",
    "        class_name = self._collection.rows.at[subject_id, self._class_column]\n",
    "\n",
    "        if 'healthy' in class_name:\n",
    "            class_id = 0\n",
    "        else:\n",
    "            class_id = 1\n",
    "\n",
    "        url = self.collection.get_image_urls(subject_id)[0]\n",
    "        img = self.collection.download_image(url)\n",
    "        img = np.array(img, dtype='uint8')\n",
    "        img = self.rgb2gray(img)\n",
    "        img = resize(img, self.image_size)\n",
    "        \n",
    "        return img, class_id, subject_id"
   ]
  },
  {
   "cell_type": "code",
   "execution_count": 11,
   "metadata": {},
   "outputs": [],
   "source": [
    "healthy_data = CovidDataset(collection, class_column='finding', tag = 'healthy_pa')\n",
    "pathologic_data = CovidDataset(collection, class_column='finding', tag = 'pneumonia_pa')"
   ]
  },
  {
   "cell_type": "code",
   "execution_count": 12,
   "metadata": {},
   "outputs": [],
   "source": [
    "healthy_generator = DataLoader(healthy_data, batch_size=4, shuffle=True, num_workers=0, pin_memory=True)\n",
    "pathologic_generator = DataLoader(healthy_data, batch_size=4, shuffle=True, num_workers=0, pin_memory=True)"
   ]
  },
  {
   "cell_type": "markdown",
   "metadata": {},
   "source": [
    "### 6.2. Custom Analysis (homogeneity)"
   ]
  },
  {
   "cell_type": "code",
   "execution_count": 13,
   "metadata": {},
   "outputs": [],
   "source": [
    "def convert(img, target_type_min, target_type_max, target_type):\n",
    "    imin = img.min()\n",
    "    imax = img.max()\n",
    "\n",
    "    a = (target_type_max - target_type_min) / (imax - imin)\n",
    "    b = target_type_max - a * imax\n",
    "    new_img = (a * img + b).astype(target_type)\n",
    "    return new_img"
   ]
  },
  {
   "cell_type": "code",
   "execution_count": 14,
   "metadata": {},
   "outputs": [],
   "source": [
    "def calculate_homogeneity(img, offsetdist=[1], offsetang = [7*np.pi/4], imgvals = 256):\n",
    "    img = convert(img, 0, 255, np.uint8)\n",
    "    glcm = graycomatrix(img, distances=offsetdist, angles=offsetang, levels=imgvals, symmetric=False, normed=True)\n",
    "    return graycoprops(glcm, 'homogeneity')[0, 0]"
   ]
  },
  {
   "cell_type": "code",
   "execution_count": 15,
   "metadata": {},
   "outputs": [],
   "source": [
    "imgs_index = []\n",
    "imgs_homogeneity = []\n",
    "\n",
    "for counter, (imgs, _, idxs) in enumerate(healthy_generator):\n",
    "    \n",
    "    imgs = imgs.detach().cpu().numpy()\n",
    "    idxs = idxs.detach().cpu().numpy()\n",
    "\n",
    "    for img, idx in zip(imgs, idxs):\n",
    "        homogeneity_val = calculate_homogeneity(img)\n",
    "\n",
    "        imgs_index.append(idx)\n",
    "        imgs_homogeneity.append(homogeneity_val)"
   ]
  },
  {
   "cell_type": "code",
   "execution_count": 16,
   "metadata": {},
   "outputs": [],
   "source": [
    "for counter, (imgs, _, idxs) in enumerate(pathologic_generator):\n",
    "    \n",
    "    imgs = imgs.detach().cpu().numpy()\n",
    "    idxs = idxs.detach().cpu().numpy()\n",
    "\n",
    "    for img, idx in zip(imgs, idxs):\n",
    "        homogeneity_val = calculate_homogeneity(img)\n",
    "\n",
    "        imgs_index.append(idx)\n",
    "        imgs_homogeneity.append(homogeneity_val)"
   ]
  },
  {
   "cell_type": "markdown",
   "metadata": {},
   "source": [
    "## 6.3 Creating a new feature"
   ]
  },
  {
   "cell_type": "code",
   "execution_count": 17,
   "metadata": {},
   "outputs": [],
   "source": [
    "homogeneity_feature = pd.DataFrame({'index': imgs_index,\n",
    "                                    'homogeneity': imgs_homogeneity})"
   ]
  },
  {
   "cell_type": "code",
   "execution_count": 20,
   "metadata": {},
   "outputs": [],
   "source": [
    "homogeneity_feature.set_index('index', inplace=True)"
   ]
  },
  {
   "cell_type": "markdown",
   "metadata": {},
   "source": [
    "## 6.4 Adding the feature to the datafile"
   ]
  },
  {
   "cell_type": "code",
   "execution_count": 7,
   "metadata": {},
   "outputs": [],
   "source": [
    "datafile_df = collection.rows.copy()"
   ]
  },
  {
   "cell_type": "code",
   "execution_count": 32,
   "metadata": {},
   "outputs": [],
   "source": [
    "# Add homegeneity data to the datafile\n",
    "datafile_df = datafile_df.join(homogeneity_feature)"
   ]
  },
  {
   "cell_type": "code",
   "execution_count": 33,
   "metadata": {},
   "outputs": [],
   "source": [
    "# Replace datafile to include new data\n",
    "collection.replace_data(datafile_df)"
   ]
  },
  {
   "cell_type": "code",
   "execution_count": 12,
   "metadata": {},
   "outputs": [
    {
     "data": {
      "text/plain": [
       "{'changed_at': 'Wed, 10 Aug 2022 11:04:35 GMT',\n",
       " 'progress': 1.0,\n",
       " 'status': 'completed'}"
      ]
     },
     "execution_count": 12,
     "metadata": {},
     "output_type": "execute_result"
    }
   ],
   "source": [
    "# Check status of collection (status has to be completed before continuing)\n",
    "collection.status"
   ]
  },
  {
   "cell_type": "markdown",
   "metadata": {},
   "source": [
    "After that, the new feature should be added to the collection datafile!"
   ]
  }
 ],
 "metadata": {
  "interpreter": {
   "hash": "17361232fb9bcb0ba5939612f19d0269bf9334e24dd707504afe9bf985e11e05"
  },
  "kernelspec": {
   "display_name": "Python 3.9.12 ('env': venv)",
   "language": "python",
   "name": "python3"
  },
  "language_info": {
   "codemirror_mode": {
    "name": "ipython",
    "version": 3
   },
   "file_extension": ".py",
   "mimetype": "text/x-python",
   "name": "python",
   "nbconvert_exporter": "python",
   "pygments_lexer": "ipython3",
   "version": "3.9.13"
  },
  "orig_nbformat": 4
 },
 "nbformat": 4,
 "nbformat_minor": 2
}
